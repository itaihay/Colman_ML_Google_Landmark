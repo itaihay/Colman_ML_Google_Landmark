{
 "cells": [
  {
   "cell_type": "markdown",
   "metadata": {},
   "source": [
    "# First Expiremnt - Transfer learning from VGG16\n"
   ]
  },
  {
   "cell_type": "markdown",
   "metadata": {},
   "source": [
    "## summery"
   ]
  },
  {
   "cell_type": "markdown",
   "metadata": {},
   "source": [
    "In this test we'll set the momentum to 0 to see the effect"
   ]
  },
  {
   "cell_type": "code",
   "execution_count": 3,
   "metadata": {},
   "outputs": [
    {
     "name": "stdout",
     "output_type": "stream",
     "text": [
      "Found 33446 images belonging to 100 classes.\n",
      "Found 5956 images belonging to 100 classes.\n"
     ]
    }
   ],
   "source": [
    "from tensorflow.keras.preprocessing.image import ImageDataGenerator\n",
    "\n",
    "train_datagen=ImageDataGenerator(\n",
    "                               rotation_range=30,\n",
    "                               width_shift_range=0.1,\n",
    "                               height_shift_range=0.1,\n",
    "                               shear_range=0.01,\n",
    "                               zoom_range=[0.8, 1.25],\n",
    "                               horizontal_flip=True,\n",
    "                               vertical_flip=False,\n",
    "                               fill_mode='reflect',\n",
    "                               data_format='channels_last',\n",
    "                               brightness_range=[0.5, 1.5])\n",
    "\n",
    "test_datagen = ImageDataGenerator(\n",
    "                               rotation_range=30,\n",
    "                               width_shift_range=0.1,\n",
    "                               height_shift_range=0.1,\n",
    "                               shear_range=0.01,\n",
    "                               zoom_range=[0.8, 1.25],\n",
    "                               horizontal_flip=True,\n",
    "                               vertical_flip=False,\n",
    "                               fill_mode='reflect',\n",
    "                               data_format='channels_last',\n",
    "                               brightness_range=[0.5, 1.5])\n",
    "\n",
    "image_size = (128,128)\n",
    "batch_size = 2\n",
    "\n",
    "training_data_dir = r'C:\\Users\\hayit\\Developement\\School\\ML\\Project\\Data'\n",
    "validation_data_dir = r'C:\\Users\\hayit\\Developement\\School\\ML\\Project\\Test'\n",
    "\n",
    "train_generator=train_datagen.flow_from_directory(training_data_dir,\n",
    "                                                 target_size=image_size,\n",
    "                                                 color_mode='rgb',\n",
    "                                                 batch_size=batch_size,\n",
    "                                                 class_mode='categorical',\n",
    "                                                 shuffle=True)\n",
    "\n",
    "validation_generator = test_datagen.flow_from_directory(\n",
    "                                        validation_data_dir,\n",
    "                                         target_size=image_size,\n",
    "                                         color_mode='rgb',\n",
    "                                        class_mode = \"categorical\")\n"
   ]
  },
  {
   "cell_type": "markdown",
   "metadata": {},
   "source": [
    "We will show the images to make sure that the loading went well"
   ]
  },
  {
   "cell_type": "code",
   "execution_count": null,
   "metadata": {},
   "outputs": [],
   "source": []
  },
  {
   "cell_type": "markdown",
   "metadata": {},
   "source": [
    "## Transfer learning from VGG16 model"
   ]
  },
  {
   "cell_type": "code",
   "execution_count": 5,
   "metadata": {},
   "outputs": [],
   "source": [
    "from tensorflow.keras import applications\n",
    "from tensorflow.keras.preprocessing.image import ImageDataGenerator\n",
    "from tensorflow.keras.layers import Dense, Dropout, Activation, Flatten, Conv2D, MaxPooling2D, GlobalAveragePooling2D\n",
    "from tensorflow.keras import optimizers\n",
    "from tensorflow.keras.models import Sequential, Model \n",
    "from tensorflow.keras.callbacks import ModelCheckpoint, EarlyStopping, Callback\n",
    "\n",
    "amountOfClasses = 100;\n",
    "\n",
    "base_model = applications.VGG16(weights = \"imagenet\", include_top=False, input_shape = (image_size[0], image_size[1], 3))\n",
    "\n",
    "for layer in base_model.layers[:17]:\n",
    "    layer.trainable = False"
   ]
  },
  {
   "cell_type": "markdown",
   "metadata": {},
   "source": [
    "## Adding the dense layers"
   ]
  },
  {
   "cell_type": "code",
   "execution_count": 6,
   "metadata": {},
   "outputs": [
    {
     "name": "stdout",
     "output_type": "stream",
     "text": [
      "_________________________________________________________________\n",
      "Layer (type)                 Output Shape              Param #   \n",
      "=================================================================\n",
      "input_1 (InputLayer)         (None, 128, 128, 3)       0         \n",
      "_________________________________________________________________\n",
      "block1_conv1 (Conv2D)        (None, 128, 128, 64)      1792      \n",
      "_________________________________________________________________\n",
      "block1_conv2 (Conv2D)        (None, 128, 128, 64)      36928     \n",
      "_________________________________________________________________\n",
      "block1_pool (MaxPooling2D)   (None, 64, 64, 64)        0         \n",
      "_________________________________________________________________\n",
      "block2_conv1 (Conv2D)        (None, 64, 64, 128)       73856     \n",
      "_________________________________________________________________\n",
      "block2_conv2 (Conv2D)        (None, 64, 64, 128)       147584    \n",
      "_________________________________________________________________\n",
      "block2_pool (MaxPooling2D)   (None, 32, 32, 128)       0         \n",
      "_________________________________________________________________\n",
      "block3_conv1 (Conv2D)        (None, 32, 32, 256)       295168    \n",
      "_________________________________________________________________\n",
      "block3_conv2 (Conv2D)        (None, 32, 32, 256)       590080    \n",
      "_________________________________________________________________\n",
      "block3_conv3 (Conv2D)        (None, 32, 32, 256)       590080    \n",
      "_________________________________________________________________\n",
      "block3_pool (MaxPooling2D)   (None, 16, 16, 256)       0         \n",
      "_________________________________________________________________\n",
      "block4_conv1 (Conv2D)        (None, 16, 16, 512)       1180160   \n",
      "_________________________________________________________________\n",
      "block4_conv2 (Conv2D)        (None, 16, 16, 512)       2359808   \n",
      "_________________________________________________________________\n",
      "block4_conv3 (Conv2D)        (None, 16, 16, 512)       2359808   \n",
      "_________________________________________________________________\n",
      "block4_pool (MaxPooling2D)   (None, 8, 8, 512)         0         \n",
      "_________________________________________________________________\n",
      "block5_conv1 (Conv2D)        (None, 8, 8, 512)         2359808   \n",
      "_________________________________________________________________\n",
      "block5_conv2 (Conv2D)        (None, 8, 8, 512)         2359808   \n",
      "_________________________________________________________________\n",
      "block5_conv3 (Conv2D)        (None, 8, 8, 512)         2359808   \n",
      "_________________________________________________________________\n",
      "block5_pool (MaxPooling2D)   (None, 4, 4, 512)         0         \n",
      "_________________________________________________________________\n",
      "global_average_pooling2d (Gl (None, 512)               0         \n",
      "_________________________________________________________________\n",
      "dense (Dense)                (None, 1024)              525312    \n",
      "_________________________________________________________________\n",
      "dense_1 (Dense)              (None, 1024)              1049600   \n",
      "_________________________________________________________________\n",
      "dense_2 (Dense)              (None, 512)               524800    \n",
      "_________________________________________________________________\n",
      "dense_3 (Dense)              (None, 100)               51300     \n",
      "=================================================================\n",
      "Total params: 16,865,700\n",
      "Trainable params: 4,510,820\n",
      "Non-trainable params: 12,354,880\n",
      "_________________________________________________________________\n"
     ]
    }
   ],
   "source": [
    "x=base_model.output\n",
    "x=GlobalAveragePooling2D()(x)\n",
    "x=Dense(1024,activation='relu')(x)\n",
    "x=Dense(1024,activation='relu')(x) \n",
    "x=Dense(512,activation='relu')(x) \n",
    "preds=Dense(amountOfClasses,activation='softmax')(x) \n",
    "\n",
    "final_model=Model(inputs=base_model.input, outputs=preds)\n",
    "final_model.summary()"
   ]
  },
  {
   "cell_type": "markdown",
   "metadata": {},
   "source": [
    "## Configure loss function and optimizer"
   ]
  },
  {
   "cell_type": "code",
   "execution_count": 7,
   "metadata": {},
   "outputs": [],
   "source": [
    "final_model.compile(loss = \"categorical_crossentropy\", optimizer = optimizers.SGD(lr=0.0001, momentum=0.9), metrics=[\"accuracy\"])"
   ]
  },
  {
   "cell_type": "markdown",
   "metadata": {},
   "source": [
    "## Step Size"
   ]
  },
  {
   "cell_type": "code",
   "execution_count": 8,
   "metadata": {},
   "outputs": [
    {
     "name": "stdout",
     "output_type": "stream",
     "text": [
      "16723\n"
     ]
    }
   ],
   "source": [
    "step_size_train=train_generator.n//train_generator.batch_size\n",
    "print(step_size_train)"
   ]
  },
  {
   "cell_type": "markdown",
   "metadata": {},
   "source": [
    "## Creating Loss and Accuracy history callbacks"
   ]
  },
  {
   "cell_type": "code",
   "execution_count": 9,
   "metadata": {},
   "outputs": [],
   "source": [
    "class LossAccHisotry(Callback):\n",
    "    def on_train_begin(self,logs={}):\n",
    "        self.loss_history = []\n",
    "        self.accuracy_history = []\n",
    "        self.val_loss_history = []\n",
    "        self.val_accuracy_history = []\n",
    "        \n",
    "    #def on_batch_end(self,batch, logs={}):\n",
    "        #self.loss_history.append(logs.get('loss'))\n",
    "        #self.accuracy_history.append(logs.get('acc'))\n",
    "        \n",
    "    def on_epoch_end(self, epoch, logs={}):\n",
    "        self.val_loss_history.append(logs.get('val_loss'))\n",
    "        self.val_accuracy_history.append(logs.get('val_acc'))\n",
    "        self.loss_history.append(logs.get('loss'))\n",
    "        self.accuracy_history.append(logs.get('acc'))\n",
    "    \n",
    "history = LossAccHisotry()"
   ]
  },
  {
   "cell_type": "markdown",
   "metadata": {},
   "source": [
    "## Ignoring images with a bad format"
   ]
  },
  {
   "cell_type": "code",
   "execution_count": 10,
   "metadata": {},
   "outputs": [],
   "source": [
    "from PIL import ImageFile\n",
    "ImageFile.LOAD_TRUNCATED_IMAGES = True"
   ]
  },
  {
   "cell_type": "markdown",
   "metadata": {},
   "source": [
    "## Setting the network saving time periods"
   ]
  },
  {
   "cell_type": "markdown",
   "metadata": {},
   "source": [
    "In order to save the model wieghts, we define checkpoint callback that will save the best weights which will be messured by the validation accuracy."
   ]
  },
  {
   "cell_type": "code",
   "execution_count": 11,
   "metadata": {},
   "outputs": [],
   "source": [
    "import time\n",
    "\n",
    "networkfileName = \"VGG16_exp3_2_{}.h5\".format(int(time.time()))\n",
    "checkpoint = ModelCheckpoint(networkfileName, monitor='val_acc', verbose=1,\n",
    "                             save_best_only=True, save_weights_only=False, mode='auto', period=1)"
   ]
  },
  {
   "cell_type": "markdown",
   "metadata": {},
   "source": [
    "## Training the model"
   ]
  },
  {
   "cell_type": "code",
   "execution_count": 12,
   "metadata": {},
   "outputs": [
    {
     "name": "stdout",
     "output_type": "stream",
     "text": [
      "Epoch 1/10\n",
      "  384/16723 [..............................] - ETA: 11:05 - loss: 4.3000 - acc: 0.1849"
     ]
    },
    {
     "name": "stderr",
     "output_type": "stream",
     "text": [
      "C:\\Users\\hayit\\Developement\\Anaconda\\envs\\py36\\lib\\site-packages\\PIL\\Image.py:931: UserWarning: Palette images with Transparency   expressed in bytes should be converted to RGBA images\n",
      "  'to RGBA images')\n"
     ]
    },
    {
     "name": "stdout",
     "output_type": "stream",
     "text": [
      "16722/16723 [============================>.] - ETA: 0s - loss: 1.8040 - acc: 0.5767"
     ]
    },
    {
     "name": "stderr",
     "output_type": "stream",
     "text": [
      "C:\\Users\\hayit\\Developement\\Anaconda\\envs\\py36\\lib\\site-packages\\PIL\\TiffImagePlugin.py:747: UserWarning: Possibly corrupt EXIF data.  Expecting to read 3300917248 bytes but only got 0. Skipping tag 7\n",
      "  \" Skipping tag %s\" % (size, len(data), tag))\n",
      "C:\\Users\\hayit\\Developement\\Anaconda\\envs\\py36\\lib\\site-packages\\PIL\\TiffImagePlugin.py:747: UserWarning: Possibly corrupt EXIF data.  Expecting to read 5898240 bytes but only got 0. Skipping tag 2\n",
      "  \" Skipping tag %s\" % (size, len(data), tag))\n",
      "C:\\Users\\hayit\\Developement\\Anaconda\\envs\\py36\\lib\\site-packages\\PIL\\TiffImagePlugin.py:747: UserWarning: Possibly corrupt EXIF data.  Expecting to read 4294901760 bytes but only got 0. Skipping tag 4\n",
      "  \" Skipping tag %s\" % (size, len(data), tag))\n",
      "C:\\Users\\hayit\\Developement\\Anaconda\\envs\\py36\\lib\\site-packages\\PIL\\TiffImagePlugin.py:747: UserWarning: Possibly corrupt EXIF data.  Expecting to read 589824 bytes but only got 0. Skipping tag 3\n",
      "  \" Skipping tag %s\" % (size, len(data), tag))\n",
      "C:\\Users\\hayit\\Developement\\Anaconda\\envs\\py36\\lib\\site-packages\\PIL\\TiffImagePlugin.py:747: UserWarning: Possibly corrupt EXIF data.  Expecting to read 65536 bytes but only got 0. Skipping tag 3\n",
      "  \" Skipping tag %s\" % (size, len(data), tag))\n",
      "C:\\Users\\hayit\\Developement\\Anaconda\\envs\\py36\\lib\\site-packages\\PIL\\TiffImagePlugin.py:747: UserWarning: Possibly corrupt EXIF data.  Expecting to read 196608 bytes but only got 10553. Skipping tag 3\n",
      "  \" Skipping tag %s\" % (size, len(data), tag))\n",
      "C:\\Users\\hayit\\Developement\\Anaconda\\envs\\py36\\lib\\site-packages\\PIL\\TiffImagePlugin.py:747: UserWarning: Possibly corrupt EXIF data.  Expecting to read 28311552 bytes but only got 0. Skipping tag 2\n",
      "  \" Skipping tag %s\" % (size, len(data), tag))\n",
      "C:\\Users\\hayit\\Developement\\Anaconda\\envs\\py36\\lib\\site-packages\\PIL\\TiffImagePlugin.py:747: UserWarning: Possibly corrupt EXIF data.  Expecting to read 23592960 bytes but only got 0. Skipping tag 5\n",
      "  \" Skipping tag %s\" % (size, len(data), tag))\n",
      "C:\\Users\\hayit\\Developement\\Anaconda\\envs\\py36\\lib\\site-packages\\PIL\\TiffImagePlugin.py:747: UserWarning: Possibly corrupt EXIF data.  Expecting to read 24117248 bytes but only got 0. Skipping tag 5\n",
      "  \" Skipping tag %s\" % (size, len(data), tag))\n",
      "C:\\Users\\hayit\\Developement\\Anaconda\\envs\\py36\\lib\\site-packages\\PIL\\TiffImagePlugin.py:747: UserWarning: Possibly corrupt EXIF data.  Expecting to read 131072 bytes but only got 0. Skipping tag 3\n",
      "  \" Skipping tag %s\" % (size, len(data), tag))\n",
      "C:\\Users\\hayit\\Developement\\Anaconda\\envs\\py36\\lib\\site-packages\\PIL\\TiffImagePlugin.py:747: UserWarning: Possibly corrupt EXIF data.  Expecting to read 24641536 bytes but only got 0. Skipping tag 4\n",
      "  \" Skipping tag %s\" % (size, len(data), tag))\n",
      "C:\\Users\\hayit\\Developement\\Anaconda\\envs\\py36\\lib\\site-packages\\PIL\\TiffImagePlugin.py:747: UserWarning: Possibly corrupt EXIF data.  Expecting to read 262146 bytes but only got 0. Skipping tag 2\n",
      "  \" Skipping tag %s\" % (size, len(data), tag))\n",
      "C:\\Users\\hayit\\Developement\\Anaconda\\envs\\py36\\lib\\site-packages\\PIL\\TiffImagePlugin.py:747: UserWarning: Possibly corrupt EXIF data.  Expecting to read 262151 bytes but only got 0. Skipping tag 56\n",
      "  \" Skipping tag %s\" % (size, len(data), tag))\n",
      "C:\\Users\\hayit\\Developement\\Anaconda\\envs\\py36\\lib\\site-packages\\PIL\\TiffImagePlugin.py:747: UserWarning: Possibly corrupt EXIF data.  Expecting to read 80000 bytes but only got 0. Skipping tag 64640\n",
      "  \" Skipping tag %s\" % (size, len(data), tag))\n",
      "C:\\Users\\hayit\\Developement\\Anaconda\\envs\\py36\\lib\\site-packages\\PIL\\TiffImagePlugin.py:747: UserWarning: Possibly corrupt EXIF data.  Expecting to read 31197188 bytes but only got 0. Skipping tag 1029\n",
      "  \" Skipping tag %s\" % (size, len(data), tag))\n",
      "C:\\Users\\hayit\\Developement\\Anaconda\\envs\\py36\\lib\\site-packages\\PIL\\TiffImagePlugin.py:764: UserWarning: Corrupt EXIF data.  Expecting to read 12 bytes but only got 7. \n",
      "  warnings.warn(str(msg))\n"
     ]
    },
    {
     "name": "stdout",
     "output_type": "stream",
     "text": [
      "\n",
      "Epoch 00001: val_acc improved from -inf to 0.71206, saving model to VGG16_exp3_2_1552498424.h5\n",
      "16723/16723 [==============================] - 738s 44ms/step - loss: 1.8040 - acc: 0.5767 - val_loss: 1.1445 - val_acc: 0.7121\n",
      "Epoch 2/10\n",
      "16721/16723 [============================>.] - ETA: 0s - loss: 0.9094 - acc: 0.7677\n",
      "Epoch 00002: val_acc improved from 0.71206 to 0.75890, saving model to VGG16_exp3_2_1552498424.h5\n",
      "16723/16723 [==============================] - 749s 45ms/step - loss: 0.9095 - acc: 0.7677 - val_loss: 0.9858 - val_acc: 0.7589\n",
      "Epoch 3/10\n",
      "16722/16723 [============================>.] - ETA: 0s - loss: 0.7091 - acc: 0.8162\n",
      "Epoch 00003: val_acc improved from 0.75890 to 0.80373, saving model to VGG16_exp3_2_1552498424.h5\n",
      "16723/16723 [==============================] - 736s 44ms/step - loss: 0.7091 - acc: 0.8162 - val_loss: 0.7745 - val_acc: 0.8037\n",
      "Epoch 4/10\n",
      "16721/16723 [============================>.] - ETA: 0s - loss: 0.5788 - acc: 0.8465\n",
      "Epoch 00004: val_acc improved from 0.80373 to 0.83193, saving model to VGG16_exp3_2_1552498424.h5\n",
      "16723/16723 [==============================] - 748s 45ms/step - loss: 0.5790 - acc: 0.8465 - val_loss: 0.6668 - val_acc: 0.8319\n",
      "Epoch 5/10\n",
      "16722/16723 [============================>.] - ETA: 0s - loss: 0.4962 - acc: 0.8667\n",
      "Epoch 00005: val_acc improved from 0.83193 to 0.84016, saving model to VGG16_exp3_2_1552498424.h5\n",
      "16723/16723 [==============================] - 1127s 67ms/step - loss: 0.4962 - acc: 0.8667 - val_loss: 0.6468 - val_acc: 0.8402\n",
      "Epoch 6/10\n",
      "16722/16723 [============================>.] - ETA: 0s - loss: 0.4331 - acc: 0.8830\n",
      "Epoch 00006: val_acc improved from 0.84016 to 0.84184, saving model to VGG16_exp3_2_1552498424.h5\n",
      "16723/16723 [==============================] - 1963s 117ms/step - loss: 0.4331 - acc: 0.8830 - val_loss: 0.6351 - val_acc: 0.8418\n",
      "Epoch 7/10\n",
      "16721/16723 [============================>.] - ETA: 0s - loss: 0.4001 - acc: 0.8919\n",
      "Epoch 00007: val_acc did not improve from 0.84184\n",
      "16723/16723 [==============================] - 779s 47ms/step - loss: 0.4002 - acc: 0.8919 - val_loss: 0.6587 - val_acc: 0.8412\n",
      "Epoch 8/10\n",
      "16721/16723 [============================>.] - ETA: 0s - loss: 0.3676 - acc: 0.8995\n",
      "Epoch 00008: val_acc improved from 0.84184 to 0.84537, saving model to VGG16_exp3_2_1552498424.h5\n",
      "16723/16723 [==============================] - 757s 45ms/step - loss: 0.3676 - acc: 0.8995 - val_loss: 0.6544 - val_acc: 0.8454\n",
      "Epoch 9/10\n",
      "16720/16723 [============================>.] - ETA: 0s - loss: 0.3410 - acc: 0.9057- - ETA: 2s\n",
      "Epoch 00009: val_acc improved from 0.84537 to 0.85158, saving model to VGG16_exp3_2_1552498424.h5\n",
      "16723/16723 [==============================] - 775s 46ms/step - loss: 0.3410 - acc: 0.9057 - val_loss: 0.6171 - val_acc: 0.8516\n",
      "Epoch 10/10\n",
      "16721/16723 [============================>.] - ETA: 0s - loss: 0.3029 - acc: 0.9150\n",
      "Epoch 00010: val_acc improved from 0.85158 to 0.87122, saving model to VGG16_exp3_2_1552498424.h5\n",
      "16723/16723 [==============================] - 767s 46ms/step - loss: 0.3029 - acc: 0.9150 - val_loss: 0.5161 - val_acc: 0.8712\n"
     ]
    },
    {
     "data": {
      "text/plain": [
       "<tensorflow.python.keras.callbacks.History at 0x25c1a964be0>"
      ]
     },
     "execution_count": 12,
     "metadata": {},
     "output_type": "execute_result"
    }
   ],
   "source": [
    "NumberOfEpochs = 10\n",
    "\n",
    "final_model.fit_generator(generator=train_generator,\n",
    "                   steps_per_epoch=step_size_train,\n",
    "                   validation_data = validation_generator,\n",
    "                   epochs=NumberOfEpochs,\n",
    "                   callbacks = [history, checkpoint])"
   ]
  },
  {
   "cell_type": "markdown",
   "metadata": {},
   "source": [
    "## Loss and Accuracy graphs"
   ]
  },
  {
   "cell_type": "code",
   "execution_count": 13,
   "metadata": {
    "scrolled": true
   },
   "outputs": [
    {
     "data": {
      "text/plain": [
       "<matplotlib.legend.Legend at 0x25c15ce89e8>"
      ]
     },
     "execution_count": 13,
     "metadata": {},
     "output_type": "execute_result"
    },
    {
     "data": {
      "image/png": "[encoded data removed]",
      "text/plain": [
       "<Figure size 432x288 with 1 Axes>"
      ]
     },
     "metadata": {
      "needs_background": "light"
     },
     "output_type": "display_data"
    }
   ],
   "source": [
    "import matplotlib.pyplot as plt\n",
    "x = range(0, len(history.accuracy_history))\n",
    "plt.plot(x, history.accuracy_history)\n",
    "plt.plot(x, history.val_accuracy_history)\n",
    "plt.xlabel('epochs')\n",
    "plt.title('Accuracy')\n",
    "plt.legend(['accuracy', 'val_accuracy'])"
   ]
  },
  {
   "cell_type": "code",
   "execution_count": 14,
   "metadata": {},
   "outputs": [
    {
     "data": {
      "text/plain": [
       "<matplotlib.legend.Legend at 0x25c23d8aeb8>"
      ]
     },
     "execution_count": 14,
     "metadata": {},
     "output_type": "execute_result"
    },
    {
     "data": {
      "image/png": "[encoded data removed]",
      "text/plain": [
       "<Figure size 432x288 with 1 Axes>"
      ]
     },
     "metadata": {
      "needs_background": "light"
     },
     "output_type": "display_data"
    }
   ],
   "source": [
    "x = range(0, len(history.loss_history))\n",
    "plt.plot(x, history.loss_history)\n",
    "plt.plot(x, history.val_loss_history)\n",
    "plt.xlabel('epochs')\n",
    "plt.title('Loss')\n",
    "plt.legend(['loss', 'val_loss'])"
   ]
  },
  {
   "cell_type": "code",
   "execution_count": null,
   "metadata": {},
   "outputs": [],
   "source": []
  }
 ],
 "metadata": {
  "kernelspec": {
   "display_name": "Python 3",
   "language": "python",
   "name": "python3"
  },
  "language_info": {
   "codemirror_mode": {
    "name": "ipython",
    "version": 3
   },
   "file_extension": ".py",
   "mimetype": "text/x-python",
   "name": "python",
   "nbconvert_exporter": "python",
   "pygments_lexer": "ipython3",
   "version": "3.6.6"
  }
 },
 "nbformat": 4,
 "nbformat_minor": 2
}
