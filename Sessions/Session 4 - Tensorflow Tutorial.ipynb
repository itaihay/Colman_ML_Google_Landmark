{
 "cells": [
  {
   "cell_type": "markdown",
   "metadata": {},
   "source": [
    "# Session 4- Tensorflow Tutorial"
   ]
  },
  {
   "cell_type": "markdown",
   "metadata": {},
   "source": [
    "## What is Tensorflow"
   ]
  },
  {
   "cell_type": "markdown",
   "metadata": {},
   "source": [
    "TensorFlow is an open source software library for numerical computation using data flow graphs. We will demonstrate how to define and train neural network models for multi-class classification problems.\n",
    "\n",
    "In this tutorial, we will train:\n",
    "- Single layer Model\n",
    "- One-Hidden Layer Neural Network Model"
   ]
  },
  {
   "cell_type": "markdown",
   "metadata": {},
   "source": [
    "## Back to MNIST"
   ]
  },
  {
   "cell_type": "markdown",
   "metadata": {},
   "source": [
    "The following code will import and download the MNIST dataset."
   ]
  },
  {
   "cell_type": "code",
   "execution_count": 1,
   "metadata": {},
   "outputs": [],
   "source": [
    "import tensorflow as tf\n",
    "\n",
    "mnist = tf.keras.datasets.mnist # 28x28 images of hand-written digits 0-9\n",
    "\n",
    "(x_train, y_train),(x_test, y_test) = mnist.load_data()"
   ]
  },
  {
   "cell_type": "markdown",
   "metadata": {},
   "source": [
    "import numpy as np\n",
    "import matplotlib.pyplot as plt\n",
    "\n",
    "%matplotlib inline\n",
    "# mnist is now a DataSet with accessors for:\n",
    "#'train' and 'test'\n",
    "# within each, we can access:\n",
    "# images, labels, and num_examples\n",
    "print(len(x_train),\n",
    "      len(x_test))\n",
    "\n",
    "# the images are stored as:\n",
    "# n_observations x 28 x 28\n",
    "# the labels are stored as n_observations\n",
    "print(x_train.shape, y_train.shape)\n",
    "\n",
    "# the range of the values of the images is from 0-255\n",
    "print(np.min(x_train), np.max(x_train))\n",
    "\n",
    "# we can visualize any one of the images by reshaping it to a 28x28 image\n",
    "plt.imshow(x_train[0], cmap='gray')"
   ]
  },
  {
   "cell_type": "markdown",
   "metadata": {},
   "source": [
    "Logistic regression is a linear model. It solves the same problem that the perceptron algorithm solves - finding a linear seperator for our data."
   ]
  },
  {
   "cell_type": "markdown",
   "metadata": {},
   "source": [
    "First, we must normalize the images:"
   ]
  },
  {
   "cell_type": "code",
   "execution_count": 2,
   "metadata": {},
   "outputs": [],
   "source": [
    "x_train = x_train / 255.0\n",
    "\n",
    "x_test = x_test / 255.0"
   ]
  },
  {
   "cell_type": "markdown",
   "metadata": {},
   "source": [
    "Next, let us define our model, it's pretty basic.\n",
    "<br>\n",
    "It will contain a single layer with a __Softmax activation function__\n",
    "\n",
    "<img src=\"imgs/softmax.PNG\"/>"
   ]
  },
  {
   "cell_type": "code",
   "execution_count": 3,
   "metadata": {},
   "outputs": [],
   "source": [
    "#Building the model\n",
    "model = tf.keras.models.Sequential()    # Creating a Sequential network (FeedForward)\n",
    "model.add(tf.keras.layers.Flatten())    # Flatting the image from a 28x28 to a 784x1 column\n",
    "model.add(tf.keras.layers.Dense(10, activation=tf.nn.softmax))   # Creating an output layer with 10 neurones and with an softmax for probability distibution"
   ]
  },
  {
   "cell_type": "markdown",
   "metadata": {},
   "source": [
    "We need to minimize some loss/cost function.\n",
    "<br>\n",
    "In our case this function is called cross-entropy (or negative log likelihood for the one-hot case)\n",
    "\n",
    "<img src=\"imgs/negativeLogLike.PNG\"/>\n",
    "\n",
    "To optimize, we will use a technique called __Stochastic Gradient Descent__"
   ]
  },
  {
   "cell_type": "code",
   "execution_count": 4,
   "metadata": {},
   "outputs": [],
   "source": [
    "from tensorflow.keras import optimizers\n",
    "from tensorflow.keras import losses\n",
    "\n",
    "sgd = optimizers.SGD(lr=0.01);\n",
    "                     \n",
    "model.compile(optimizer=sgd,                                 # The optimizer to use in order to update the weights\n",
    "              loss=losses.sparse_categorical_crossentropy,     # The cross entropy loss function\n",
    "              metrics=['accuracy'])"
   ]
  },
  {
   "cell_type": "markdown",
   "metadata": {},
   "source": [
    "## Fitting the model with the training data"
   ]
  },
  {
   "cell_type": "markdown",
   "metadata": {},
   "source": [
    "We would like to observe the loss function values throught the training process.\n",
    "<br>\n",
    "This is why we create a callback to store the loss and accuracy function values:"
   ]
  },
  {
   "cell_type": "code",
   "execution_count": 5,
   "metadata": {},
   "outputs": [],
   "source": [
    "class LossAccHistory(tf.keras.callbacks.Callback):\n",
    "    def on_train_begin(self, logs={}):\n",
    "        self.losses = []\n",
    "        self.accuracy = []\n",
    "\n",
    "    def on_epoch_end(self, batch, logs={}):\n",
    "        self.losses.append(logs.get('loss'))\n",
    "        self.accuracy.append(logs.get('acc'))"
   ]
  },
  {
   "cell_type": "markdown",
   "metadata": {},
   "source": [
    "We will add the callback to the model's fitting"
   ]
  },
  {
   "cell_type": "code",
   "execution_count": 6,
   "metadata": {},
   "outputs": [
    {
     "name": "stdout",
     "output_type": "stream",
     "text": [
      "Train on 54000 samples, validate on 6000 samples\n",
      "Epoch 1/10\n",
      "54000/54000 [==============================] - 4s 68us/step - loss: 1.2152 - acc: 0.7151 - val_loss: 0.7196 - val_acc: 0.8637\n",
      "Epoch 2/10\n",
      "54000/54000 [==============================] - 1s 17us/step - loss: 0.6854 - acc: 0.8413 - val_loss: 0.5302 - val_acc: 0.8870\n",
      "Epoch 3/10\n",
      "54000/54000 [==============================] - 1s 17us/step - loss: 0.5688 - acc: 0.8596 - val_loss: 0.4555 - val_acc: 0.8940\n",
      "Epoch 4/10\n",
      "54000/54000 [==============================] - 1s 17us/step - loss: 0.5124 - acc: 0.8694 - val_loss: 0.4143 - val_acc: 0.8993\n",
      "Epoch 5/10\n",
      "54000/54000 [==============================] - 1s 17us/step - loss: 0.4777 - acc: 0.8754 - val_loss: 0.3878 - val_acc: 0.9040\n",
      "Epoch 6/10\n",
      "54000/54000 [==============================] - 1s 17us/step - loss: 0.4537 - acc: 0.8801 - val_loss: 0.3689 - val_acc: 0.9082\n",
      "Epoch 7/10\n",
      "54000/54000 [==============================] - 1s 17us/step - loss: 0.4358 - acc: 0.8844 - val_loss: 0.3550 - val_acc: 0.9107\n",
      "Epoch 8/10\n",
      "54000/54000 [==============================] - 1s 17us/step - loss: 0.4219 - acc: 0.8874 - val_loss: 0.3437 - val_acc: 0.9132\n",
      "Epoch 9/10\n",
      "54000/54000 [==============================] - 1s 16us/step - loss: 0.4106 - acc: 0.8898 - val_loss: 0.3348 - val_acc: 0.9145\n",
      "Epoch 10/10\n",
      "54000/54000 [==============================] - 1s 17us/step - loss: 0.4012 - acc: 0.8917 - val_loss: 0.3272 - val_acc: 0.9150\n"
     ]
    },
    {
     "data": {
      "text/plain": [
       "<tensorflow.python.keras.callbacks.History at 0x1f780c60e48>"
      ]
     },
     "execution_count": 6,
     "metadata": {},
     "output_type": "execute_result"
    }
   ],
   "source": [
    "n_epochs = 10\n",
    "batch_size = 100\n",
    "\n",
    "history = LossAccHistory()\n",
    "model.fit(x_train, y_train, validation_split=0.1, shuffle=True, \n",
    "          epochs=n_epochs, batch_size=batch_size,\n",
    "          callbacks=[history])   #Trainning the model with the data"
   ]
  },
  {
   "cell_type": "markdown",
   "metadata": {},
   "source": [
    "Let us evaluate The accuracy and the loss of the model:"
   ]
  },
  {
   "cell_type": "code",
   "execution_count": 7,
   "metadata": {
    "scrolled": true
   },
   "outputs": [
    {
     "ename": "ModuleNotFoundError",
     "evalue": "No module named 'matplotlib'",
     "output_type": "error",
     "traceback": [
      "\u001b[1;31m---------------------------------------------------------------------------\u001b[0m",
      "\u001b[1;31mModuleNotFoundError\u001b[0m                       Traceback (most recent call last)",
      "\u001b[1;32m<ipython-input-7-64d5dc0f96e4>\u001b[0m in \u001b[0;36m<module>\u001b[1;34m\u001b[0m\n\u001b[1;32m----> 1\u001b[1;33m \u001b[1;32mimport\u001b[0m \u001b[0mmatplotlib\u001b[0m\u001b[1;33m.\u001b[0m\u001b[0mpyplot\u001b[0m \u001b[1;32mas\u001b[0m \u001b[0mplt\u001b[0m\u001b[1;33m\u001b[0m\u001b[1;33m\u001b[0m\u001b[0m\n\u001b[0m\u001b[0;32m      2\u001b[0m \u001b[0mx\u001b[0m \u001b[1;33m=\u001b[0m \u001b[0mrange\u001b[0m\u001b[1;33m(\u001b[0m\u001b[1;36m0\u001b[0m\u001b[1;33m,\u001b[0m \u001b[0mlen\u001b[0m\u001b[1;33m(\u001b[0m\u001b[0mhistory\u001b[0m\u001b[1;33m.\u001b[0m\u001b[0mlosses\u001b[0m\u001b[1;33m)\u001b[0m\u001b[1;33m)\u001b[0m\u001b[1;33m\u001b[0m\u001b[1;33m\u001b[0m\u001b[0m\n\u001b[0;32m      3\u001b[0m \u001b[0mplt\u001b[0m\u001b[1;33m.\u001b[0m\u001b[0mplot\u001b[0m\u001b[1;33m(\u001b[0m\u001b[0mx\u001b[0m\u001b[1;33m,\u001b[0m \u001b[0mhistory\u001b[0m\u001b[1;33m.\u001b[0m\u001b[0mlosses\u001b[0m\u001b[1;33m)\u001b[0m\u001b[1;33m\u001b[0m\u001b[1;33m\u001b[0m\u001b[0m\n\u001b[0;32m      4\u001b[0m \u001b[0mplt\u001b[0m\u001b[1;33m.\u001b[0m\u001b[0mplot\u001b[0m\u001b[1;33m(\u001b[0m\u001b[0mx\u001b[0m\u001b[1;33m,\u001b[0m \u001b[0mhistory\u001b[0m\u001b[1;33m.\u001b[0m\u001b[0maccuracy\u001b[0m\u001b[1;33m)\u001b[0m\u001b[1;33m\u001b[0m\u001b[1;33m\u001b[0m\u001b[0m\n\u001b[0;32m      5\u001b[0m \u001b[0mplt\u001b[0m\u001b[1;33m.\u001b[0m\u001b[0mxlabel\u001b[0m\u001b[1;33m(\u001b[0m\u001b[1;34m'epochs'\u001b[0m\u001b[1;33m)\u001b[0m\u001b[1;33m\u001b[0m\u001b[1;33m\u001b[0m\u001b[0m\n",
      "\u001b[1;31mModuleNotFoundError\u001b[0m: No module named 'matplotlib'"
     ]
    }
   ],
   "source": [
    "import matplotlib.pyplot as plt\n",
    "x = range(0, len(history.losses))\n",
    "plt.plot(x, history.losses)\n",
    "plt.plot(x, history.accuracy)\n",
    "plt.xlabel('epochs')\n",
    "plt.title('Loss and Accuracy')\n",
    "plt.legend(['losses', 'accuracy'])"
   ]
  },
  {
   "cell_type": "markdown",
   "metadata": {},
   "source": [
    "## But Wait..."
   ]
  },
  {
   "cell_type": "markdown",
   "metadata": {},
   "source": [
    "This is our accuracy on the validation set! What we really want to know is how we performed on the test set:"
   ]
  },
  {
   "cell_type": "code",
   "execution_count": 10,
   "metadata": {},
   "outputs": [
    {
     "name": "stdout",
     "output_type": "stream",
     "text": [
      "10000/10000 [==============================] - 0s 28us/step\n",
      "Test accuracy: 0.9011\n"
     ]
    }
   ],
   "source": [
    "test_loss, test_acc = model.evaluate(x_test, y_test)\n",
    "\n",
    "print('Test accuracy:', test_acc)"
   ]
  },
  {
   "cell_type": "markdown",
   "metadata": {},
   "source": [
    "We got a 90% accuracy on the test data! "
   ]
  },
  {
   "cell_type": "markdown",
   "metadata": {},
   "source": [
    "## Adding Layers"
   ]
  },
  {
   "cell_type": "markdown",
   "metadata": {},
   "source": [
    "So what we have so far is a linear model, basically 1 layer.\n",
    "\n",
    "Why not add a hidden layer?"
   ]
  },
  {
   "cell_type": "markdown",
   "metadata": {},
   "source": [
    "Let us define a new model by using a hidden layer with a ReLU activation function\n",
    "- Why use non-linearities? (combining linear function yields a linear function)\n",
    "- Other options for activation functions? (sigmoid, tanh, etc.)"
   ]
  },
  {
   "cell_type": "markdown",
   "metadata": {},
   "source": [
    "We will implement a model called MLP (Multi Layer Perceptron). It will have the following structure:\n",
    "- Input layer (784)\n",
    "- Hidden layer (256) with an activation function of ReLU\n",
    "- Output layer (10)  with an activation function of softmax"
   ]
  },
  {
   "cell_type": "code",
   "execution_count": 11,
   "metadata": {},
   "outputs": [],
   "source": [
    "model = tf.keras.models.Sequential()    # Creating a Sequential network (FeedForward)\n",
    "model.add(tf.keras.layers.Flatten())    # Flatting the image from a 28x28 to a 784x1 column\n",
    "model.add(tf.keras.layers.Dense(256, activation=tf.nn.relu))   # Creating a fully connected layer With 128 neurons with ReLu activation function\n",
    "model.add(tf.keras.layers.Dense(10, activation=tf.nn.softmax))   # Creating an output layer with 10 neurones and with an softmax for probability distibution"
   ]
  },
  {
   "cell_type": "markdown",
   "metadata": {},
   "source": [
    "The ReLU activation function is defined as:\n",
    "\\begin{equation}\n",
    "  x'= \\max(0, x)\n",
    "\\end{equation}\n",
    "\n",
    "And the softmax function is defined as:\n",
    "\\begin{equation}\n",
    "  \\frac{e^{y_i}}{\\sum_{k=1}^{n} e^{y_k}}\n",
    "\\end{equation}"
   ]
  },
  {
   "cell_type": "markdown",
   "metadata": {},
   "source": [
    "Now lets use a different optimization technique, instead of using __Stochastic Gradient Descent__ let us use a method called __ADAM__ (it is a varient of SGD, only with different learning rates for each dimension)."
   ]
  },
  {
   "cell_type": "code",
   "execution_count": 12,
   "metadata": {},
   "outputs": [],
   "source": [
    "model.compile(optimizer='adam',\n",
    "              loss='sparse_categorical_crossentropy',\n",
    "              metrics=['accuracy'])"
   ]
  },
  {
   "cell_type": "markdown",
   "metadata": {},
   "source": [
    "## Putting it All Together"
   ]
  },
  {
   "cell_type": "code",
   "execution_count": 13,
   "metadata": {},
   "outputs": [
    {
     "name": "stdout",
     "output_type": "stream",
     "text": [
      "Train on 54000 samples, validate on 6000 samples\n",
      "Epoch 1/10\n",
      "54000/54000 [==============================] - 5s 92us/step - loss: 0.3049 - acc: 0.9141 - val_loss: 0.1312 - val_acc: 0.9635\n",
      "Epoch 2/10\n",
      "54000/54000 [==============================] - 4s 73us/step - loss: 0.1318 - acc: 0.9615 - val_loss: 0.1025 - val_acc: 0.9708\n",
      "Epoch 3/10\n",
      "54000/54000 [==============================] - 4s 72us/step - loss: 0.0880 - acc: 0.9741 - val_loss: 0.0867 - val_acc: 0.9765\n",
      "Epoch 4/10\n",
      "54000/54000 [==============================] - 4s 72us/step - loss: 0.0641 - acc: 0.9811 - val_loss: 0.0753 - val_acc: 0.9778\n",
      "Epoch 5/10\n",
      "54000/54000 [==============================] - 4s 73us/step - loss: 0.0492 - acc: 0.9856 - val_loss: 0.0768 - val_acc: 0.9770\n",
      "Epoch 6/10\n",
      "54000/54000 [==============================] - 4s 73us/step - loss: 0.0386 - acc: 0.9890 - val_loss: 0.0745 - val_acc: 0.9790\n",
      "Epoch 7/10\n",
      "54000/54000 [==============================] - 4s 73us/step - loss: 0.0292 - acc: 0.9924 - val_loss: 0.0703 - val_acc: 0.9800\n",
      "Epoch 8/10\n",
      "54000/54000 [==============================] - 4s 73us/step - loss: 0.0232 - acc: 0.9937 - val_loss: 0.0685 - val_acc: 0.9788\n",
      "Epoch 9/10\n",
      "54000/54000 [==============================] - 4s 74us/step - loss: 0.0186 - acc: 0.9954 - val_loss: 0.0630 - val_acc: 0.9830\n",
      "Epoch 10/10\n",
      "54000/54000 [==============================] - 4s 74us/step - loss: 0.0137 - acc: 0.9968 - val_loss: 0.0692 - val_acc: 0.9800\n"
     ]
    },
    {
     "data": {
      "text/plain": [
       "<tensorflow.python.keras.callbacks.History at 0x29b2a601cf8>"
      ]
     },
     "execution_count": 13,
     "metadata": {},
     "output_type": "execute_result"
    }
   ],
   "source": [
    "class EpochLossAccHistory(tf.keras.callbacks.Callback):\n",
    "    def on_train_begin(self, logs={}):\n",
    "        self.losses = []\n",
    "        self.accuracy = []\n",
    "\n",
    "    def on_epoch_end(self, epoch, logs={}):\n",
    "        self.losses.append(logs.get('loss'))\n",
    "        self.accuracy.append(logs.get('acc'))\n",
    "        \n",
    "n_epochs = 10\n",
    "batch_size = 100\n",
    "\n",
    "history = EpochLossAccHistory()\n",
    "model.fit(x_train, y_train, validation_split=0.1, shuffle=True, \n",
    "          epochs=n_epochs, batch_size=batch_size,\n",
    "          callbacks=[history])   #Trainning the model with the data"
   ]
  },
  {
   "cell_type": "markdown",
   "metadata": {},
   "source": [
    "We have an accuracy of 99% on the train data!\n",
    "<br>\n",
    "__WOW!__"
   ]
  },
  {
   "cell_type": "markdown",
   "metadata": {},
   "source": [
    "## Cool. Lets See Some Results"
   ]
  },
  {
   "cell_type": "code",
   "execution_count": 14,
   "metadata": {},
   "outputs": [
    {
     "data": {
      "text/plain": [
       "<matplotlib.legend.Legend at 0x29b2a9e9c18>"
      ]
     },
     "execution_count": 14,
     "metadata": {},
     "output_type": "execute_result"
    },
    {
     "data": {
      "image/png": "[encoded data removed]",
      "text/plain": [
       "<Figure size 432x288 with 1 Axes>"
      ]
     },
     "metadata": {
      "needs_background": "light"
     },
     "output_type": "display_data"
    }
   ],
   "source": [
    "import matplotlib.pyplot as plt\n",
    "x = range(0, len(history.losses))\n",
    "plt.plot(x, history.losses)\n",
    "plt.plot(x, history.accuracy)\n",
    "plt.xlabel('epochs')\n",
    "plt.title('Loss and Accuracy')\n",
    "plt.legend(['losses', 'accuracy'])"
   ]
  },
  {
   "cell_type": "markdown",
   "metadata": {},
   "source": [
    "## Test Set"
   ]
  },
  {
   "cell_type": "code",
   "execution_count": 17,
   "metadata": {},
   "outputs": [
    {
     "name": "stdout",
     "output_type": "stream",
     "text": [
      "10000/10000 [==============================] - 0s 26us/step\n",
      "Test accuracy: 0.9796\n"
     ]
    }
   ],
   "source": [
    "test_loss, test_acc = model.evaluate(x_test, y_test)\n",
    "\n",
    "print('Test accuracy:', test_acc)"
   ]
  },
  {
   "cell_type": "markdown",
   "metadata": {},
   "source": [
    "Let's predict some images:"
   ]
  },
  {
   "cell_type": "code",
   "execution_count": 19,
   "metadata": {},
   "outputs": [],
   "source": [
    "predictions = model.predict(x_test[:25]);\n",
    "true_labels = y_test[:25];"
   ]
  },
  {
   "cell_type": "code",
   "execution_count": 21,
   "metadata": {},
   "outputs": [
    {
     "data": {
      "image/png": "[encoded data removed]",
      "text/plain": [
       "<Figure size 1440x1440 with 25 Axes>"
      ]
     },
     "metadata": {},
     "output_type": "display_data"
    }
   ],
   "source": [
    "import matplotlib.pyplot as plt\n",
    "\n",
    "def plot_image(i, predictions_array, true_label, img):\n",
    "  predictions_array, true_label, img = predictions_array[i], true_label[i], img[i]\n",
    "  plt.grid(False)\n",
    "  plt.xticks([])\n",
    "  plt.yticks([])\n",
    "  \n",
    "  plt.imshow(img, cmap='gray')\n",
    "\n",
    "  predicted_label = np.argmax(predictions_array)\n",
    "  if predicted_label == true_label:\n",
    "    color = 'blue'\n",
    "  else:\n",
    "    color = 'red'\n",
    "  \n",
    "  plt.xlabel(\"{} {:2.0f}% ({})\".format(predicted_label,\n",
    "                                100*np.max(predictions_array),\n",
    "                                true_label),\n",
    "                                color=color)\n",
    "\n",
    "num_rows = 5\n",
    "num_cols = 5\n",
    "num_images = num_rows*num_cols\n",
    "plt.figure(figsize=(2*2*num_cols, 2*2*num_rows))\n",
    "for i in range(num_images):\n",
    "  plt.subplot(num_rows, num_cols, i+1)\n",
    "  plot_image(i, predictions, true_labels, x_test[:25] * 255.0)"
   ]
  },
  {
   "cell_type": "markdown",
   "metadata": {},
   "source": [
    "This is much better!"
   ]
  },
  {
   "cell_type": "markdown",
   "metadata": {},
   "source": [
    "# Your Turn\n",
    "Now that you have seen how to build simple models, it's your turn to experiment.\n",
    "\n",
    "Train an MLP.\n",
    "\n",
    "Follow the instuctions in the following link:"
   ]
  },
  {
   "cell_type": "code",
   "execution_count": null,
   "metadata": {},
   "outputs": [],
   "source": [
    "https://www.tensorflow.org/tutorials/keras/basic_classification"
   ]
  }
 ],
 "metadata": {
  "kernelspec": {
   "display_name": "Python 3",
   "language": "python",
   "name": "python3"
  },
  "language_info": {
   "codemirror_mode": {
    "name": "ipython",
    "version": 3
   },
   "file_extension": ".py",
   "mimetype": "text/x-python",
   "name": "python",
   "nbconvert_exporter": "python",
   "pygments_lexer": "ipython3",
   "version": "3.6.8"
  }
 },
 "nbformat": 4,
 "nbformat_minor": 2
}
